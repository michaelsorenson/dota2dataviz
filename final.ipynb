{
 "cells": [
  {
   "cell_type": "code",
   "execution_count": 1,
   "metadata": {},
   "outputs": [],
   "source": [
    "from collections import defaultdict\n",
    "import matplotlib.pyplot as plt\n",
    "import pandas as pd\n",
    "import numpy as np\n",
    "import requests\n",
    "import json\n",
    "import time"
   ]
  },
  {
   "cell_type": "code",
   "execution_count": 117,
   "metadata": {},
   "outputs": [],
   "source": [
    "# Built from https://www.opendota.com/explorer\n",
    "resp = requests.get('https://api.opendota.com/api/explorer?sql=SELECT%20*%0AFROM%20public_matches%0AWHERE%20public_matches.lobby_type%20%3D%207%0AAND%20public_matches.start_time%20>%3D%20extract(epoch%20from%20timestamp%20%272019-12-07T08%3A00%3A00.000Z%27)%0ALIMIT%201000000')\n"
   ]
  },
  {
   "cell_type": "code",
   "execution_count": 139,
   "metadata": {},
   "outputs": [
    {
     "data": {
      "text/html": [
       "<div>\n",
       "<style scoped>\n",
       "    .dataframe tbody tr th:only-of-type {\n",
       "        vertical-align: middle;\n",
       "    }\n",
       "\n",
       "    .dataframe tbody tr th {\n",
       "        vertical-align: top;\n",
       "    }\n",
       "\n",
       "    .dataframe thead th {\n",
       "        text-align: right;\n",
       "    }\n",
       "</style>\n",
       "<table border=\"1\" class=\"dataframe\">\n",
       "  <thead>\n",
       "    <tr style=\"text-align: right;\">\n",
       "      <th></th>\n",
       "      <th>avg_mmr</th>\n",
       "      <th>avg_rank_tier</th>\n",
       "      <th>cluster</th>\n",
       "      <th>duration</th>\n",
       "      <th>game_mode</th>\n",
       "      <th>lobby_type</th>\n",
       "      <th>match_id</th>\n",
       "      <th>match_seq_num</th>\n",
       "      <th>num_mmr</th>\n",
       "      <th>num_rank_tier</th>\n",
       "      <th>radiant_win</th>\n",
       "      <th>start_time</th>\n",
       "    </tr>\n",
       "  </thead>\n",
       "  <tbody>\n",
       "    <tr>\n",
       "      <th>0</th>\n",
       "      <td>2908.0</td>\n",
       "      <td>44</td>\n",
       "      <td>136</td>\n",
       "      <td>2430</td>\n",
       "      <td>22</td>\n",
       "      <td>7</td>\n",
       "      <td>5145495206</td>\n",
       "      <td>4317375306</td>\n",
       "      <td>1.0</td>\n",
       "      <td>4</td>\n",
       "      <td>True</td>\n",
       "      <td>1575740434</td>\n",
       "    </tr>\n",
       "    <tr>\n",
       "      <th>1</th>\n",
       "      <td>NaN</td>\n",
       "      <td>21</td>\n",
       "      <td>191</td>\n",
       "      <td>1582</td>\n",
       "      <td>22</td>\n",
       "      <td>7</td>\n",
       "      <td>5145511618</td>\n",
       "      <td>4317375374</td>\n",
       "      <td>NaN</td>\n",
       "      <td>3</td>\n",
       "      <td>False</td>\n",
       "      <td>1575741250</td>\n",
       "    </tr>\n",
       "    <tr>\n",
       "      <th>2</th>\n",
       "      <td>2727.0</td>\n",
       "      <td>45</td>\n",
       "      <td>236</td>\n",
       "      <td>2783</td>\n",
       "      <td>22</td>\n",
       "      <td>7</td>\n",
       "      <td>5145489412</td>\n",
       "      <td>4317375475</td>\n",
       "      <td>3.0</td>\n",
       "      <td>6</td>\n",
       "      <td>False</td>\n",
       "      <td>1575740171</td>\n",
       "    </tr>\n",
       "    <tr>\n",
       "      <th>3</th>\n",
       "      <td>3745.0</td>\n",
       "      <td>62</td>\n",
       "      <td>201</td>\n",
       "      <td>2127</td>\n",
       "      <td>22</td>\n",
       "      <td>7</td>\n",
       "      <td>5145502416</td>\n",
       "      <td>4317375668</td>\n",
       "      <td>6.0</td>\n",
       "      <td>6</td>\n",
       "      <td>True</td>\n",
       "      <td>1575740753</td>\n",
       "    </tr>\n",
       "    <tr>\n",
       "      <th>4</th>\n",
       "      <td>2541.0</td>\n",
       "      <td>34</td>\n",
       "      <td>121</td>\n",
       "      <td>1426</td>\n",
       "      <td>22</td>\n",
       "      <td>7</td>\n",
       "      <td>5145515006</td>\n",
       "      <td>4317376119</td>\n",
       "      <td>1.0</td>\n",
       "      <td>2</td>\n",
       "      <td>True</td>\n",
       "      <td>1575741433</td>\n",
       "    </tr>\n",
       "  </tbody>\n",
       "</table>\n",
       "</div>"
      ],
      "text/plain": [
       "   avg_mmr  avg_rank_tier  cluster  duration  game_mode  lobby_type  \\\n",
       "0   2908.0             44      136      2430         22           7   \n",
       "1      NaN             21      191      1582         22           7   \n",
       "2   2727.0             45      236      2783         22           7   \n",
       "3   3745.0             62      201      2127         22           7   \n",
       "4   2541.0             34      121      1426         22           7   \n",
       "\n",
       "     match_id  match_seq_num  num_mmr  num_rank_tier  radiant_win  start_time  \n",
       "0  5145495206     4317375306      1.0              4         True  1575740434  \n",
       "1  5145511618     4317375374      NaN              3        False  1575741250  \n",
       "2  5145489412     4317375475      3.0              6        False  1575740171  \n",
       "3  5145502416     4317375668      6.0              6         True  1575740753  \n",
       "4  5145515006     4317376119      1.0              2         True  1575741433  "
      ]
     },
     "execution_count": 139,
     "metadata": {},
     "output_type": "execute_result"
    }
   ],
   "source": [
    "gendata = pd.DataFrame(json.loads(resp.content)['rows'])\n",
    "gendata.head()"
   ]
  },
  {
   "cell_type": "code",
   "execution_count": 135,
   "metadata": {},
   "outputs": [
    {
     "data": {
      "text/html": [
       "<div>\n",
       "<style scoped>\n",
       "    .dataframe tbody tr th:only-of-type {\n",
       "        vertical-align: middle;\n",
       "    }\n",
       "\n",
       "    .dataframe tbody tr th {\n",
       "        vertical-align: top;\n",
       "    }\n",
       "\n",
       "    .dataframe thead th {\n",
       "        text-align: right;\n",
       "    }\n",
       "</style>\n",
       "<table border=\"1\" class=\"dataframe\">\n",
       "  <thead>\n",
       "    <tr style=\"text-align: right;\">\n",
       "      <th></th>\n",
       "      <th>avg_mmr</th>\n",
       "      <th>avg_rank_tier</th>\n",
       "      <th>cluster</th>\n",
       "      <th>duration</th>\n",
       "      <th>game_mode</th>\n",
       "      <th>lobby_type</th>\n",
       "      <th>match_id</th>\n",
       "      <th>match_seq_num</th>\n",
       "      <th>num_mmr</th>\n",
       "      <th>num_rank_tier</th>\n",
       "      <th>radiant_win</th>\n",
       "      <th>start_time</th>\n",
       "    </tr>\n",
       "  </thead>\n",
       "  <tbody>\n",
       "    <tr>\n",
       "      <th>38553</th>\n",
       "      <td>5125.0</td>\n",
       "      <td>64</td>\n",
       "      <td>151</td>\n",
       "      <td>2321</td>\n",
       "      <td>22</td>\n",
       "      <td>7</td>\n",
       "      <td>5145179519</td>\n",
       "      <td>4317106158</td>\n",
       "      <td>1.0</td>\n",
       "      <td>6</td>\n",
       "      <td>True</td>\n",
       "      <td>1575728217</td>\n",
       "    </tr>\n",
       "    <tr>\n",
       "      <th>26241</th>\n",
       "      <td>420.0</td>\n",
       "      <td>18</td>\n",
       "      <td>232</td>\n",
       "      <td>3044</td>\n",
       "      <td>22</td>\n",
       "      <td>7</td>\n",
       "      <td>5144915907</td>\n",
       "      <td>4316899688</td>\n",
       "      <td>1.0</td>\n",
       "      <td>3</td>\n",
       "      <td>False</td>\n",
       "      <td>1575718541</td>\n",
       "    </tr>\n",
       "    <tr>\n",
       "      <th>20659</th>\n",
       "      <td>3223.0</td>\n",
       "      <td>59</td>\n",
       "      <td>133</td>\n",
       "      <td>1869</td>\n",
       "      <td>22</td>\n",
       "      <td>7</td>\n",
       "      <td>5144822205</td>\n",
       "      <td>4316795467</td>\n",
       "      <td>6.0</td>\n",
       "      <td>6</td>\n",
       "      <td>True</td>\n",
       "      <td>1575714249</td>\n",
       "    </tr>\n",
       "    <tr>\n",
       "      <th>47399</th>\n",
       "      <td>4529.0</td>\n",
       "      <td>69</td>\n",
       "      <td>151</td>\n",
       "      <td>2016</td>\n",
       "      <td>22</td>\n",
       "      <td>7</td>\n",
       "      <td>5145362417</td>\n",
       "      <td>4317252283</td>\n",
       "      <td>3.0</td>\n",
       "      <td>5</td>\n",
       "      <td>True</td>\n",
       "      <td>1575734773</td>\n",
       "    </tr>\n",
       "    <tr>\n",
       "      <th>52339</th>\n",
       "      <td>1919.0</td>\n",
       "      <td>29</td>\n",
       "      <td>201</td>\n",
       "      <td>1992</td>\n",
       "      <td>22</td>\n",
       "      <td>7</td>\n",
       "      <td>5145451712</td>\n",
       "      <td>4317331838</td>\n",
       "      <td>1.0</td>\n",
       "      <td>3</td>\n",
       "      <td>False</td>\n",
       "      <td>1575738436</td>\n",
       "    </tr>\n",
       "  </tbody>\n",
       "</table>\n",
       "</div>"
      ],
      "text/plain": [
       "       avg_mmr  avg_rank_tier  cluster  duration  game_mode  lobby_type  \\\n",
       "38553   5125.0             64      151      2321         22           7   \n",
       "26241    420.0             18      232      3044         22           7   \n",
       "20659   3223.0             59      133      1869         22           7   \n",
       "47399   4529.0             69      151      2016         22           7   \n",
       "52339   1919.0             29      201      1992         22           7   \n",
       "\n",
       "         match_id  match_seq_num  num_mmr  num_rank_tier  radiant_win  \\\n",
       "38553  5145179519     4317106158      1.0              6         True   \n",
       "26241  5144915907     4316899688      1.0              3        False   \n",
       "20659  5144822205     4316795467      6.0              6         True   \n",
       "47399  5145362417     4317252283      3.0              5         True   \n",
       "52339  5145451712     4317331838      1.0              3        False   \n",
       "\n",
       "       start_time  \n",
       "38553  1575728217  \n",
       "26241  1575718541  \n",
       "20659  1575714249  \n",
       "47399  1575734773  \n",
       "52339  1575738436  "
      ]
     },
     "execution_count": 135,
     "metadata": {},
     "output_type": "execute_result"
    }
   ],
   "source": [
    "gendata = gendata.dropna(subset=['avg_mmr']).sample(10000)\n",
    "gendata.head()"
   ]
  },
  {
   "cell_type": "code",
   "execution_count": 136,
   "metadata": {},
   "outputs": [
    {
     "data": {
      "text/plain": [
       "10000"
      ]
     },
     "execution_count": 136,
     "metadata": {},
     "output_type": "execute_result"
    }
   ],
   "source": [
    "len(gendata)"
   ]
  },
  {
   "cell_type": "code",
   "execution_count": null,
   "metadata": {},
   "outputs": [],
   "source": []
  },
  {
   "cell_type": "code",
   "execution_count": null,
   "metadata": {},
   "outputs": [
    {
     "name": "stdout",
     "output_type": "stream",
     "text": [
      "49.6%\r"
     ]
    }
   ],
   "source": [
    "matchdata = defaultdict(list)\n",
    "failed = []\n",
    "resps = []\n",
    "for i, mid in enumerate(gendata['match_id']):\n",
    "    print('{:2.1%}'.format(i / 10000), end='\\r')\n",
    "    match = requests.get('https://api.opendota.com/api/matches/' + str(mid) + '?api_key=[API_KEY]')\n",
    "    try:\n",
    "        for key, val in json.loads(match.content).items():\n",
    "            matchdata[key].append(val)\n",
    "    except:\n",
    "        failed.append(i)"
   ]
  },
  {
   "cell_type": "code",
   "execution_count": 7,
   "metadata": {},
   "outputs": [],
   "source": [
    "keys = []\n",
    "for key in matchdata.keys():\n",
    "    if len(matchdata[key]) == len(matchdata['match_id']):\n",
    "        keys.append(key)\n",
    "fixed = {key: matchdata[key] for key in keys}\n",
    "data = pd.DataFrame(fixed)\n",
    "data.to_csv('matchdata.csv')"
   ]
  },
  {
   "cell_type": "code",
   "execution_count": 100,
   "metadata": {},
   "outputs": [],
   "source": [
    "data['avg_mmr'] = gendata['avg_mmr']"
   ]
  },
  {
   "cell_type": "code",
   "execution_count": 13,
   "metadata": {},
   "outputs": [],
   "source": [
    "gamemodedata = json.loads(requests.get('https://api.opendota.com/api/explorer?sql=SELECT%20*%0AFROM%20public_matches%0AWHERE%20public_matches.start_time%20>%3D%20extract(epoch%20from%20timestamp%20%272019-12-07T08%3A00%3A00.000Z%27)%0ALIMIT%20100000').content)\n",
    "gamemodedata = pd.DataFrame(gamemodedata['rows'])"
   ]
  },
  {
   "cell_type": "code",
   "execution_count": 14,
   "metadata": {},
   "outputs": [
    {
     "data": {
      "text/html": [
       "<div>\n",
       "<style scoped>\n",
       "    .dataframe tbody tr th:only-of-type {\n",
       "        vertical-align: middle;\n",
       "    }\n",
       "\n",
       "    .dataframe tbody tr th {\n",
       "        vertical-align: top;\n",
       "    }\n",
       "\n",
       "    .dataframe thead th {\n",
       "        text-align: right;\n",
       "    }\n",
       "</style>\n",
       "<table border=\"1\" class=\"dataframe\">\n",
       "  <thead>\n",
       "    <tr style=\"text-align: right;\">\n",
       "      <th></th>\n",
       "      <th>avg_mmr</th>\n",
       "      <th>avg_rank_tier</th>\n",
       "      <th>cluster</th>\n",
       "      <th>duration</th>\n",
       "      <th>game_mode</th>\n",
       "      <th>lobby_type</th>\n",
       "      <th>match_id</th>\n",
       "      <th>match_seq_num</th>\n",
       "      <th>num_mmr</th>\n",
       "      <th>num_rank_tier</th>\n",
       "      <th>radiant_win</th>\n",
       "      <th>start_time</th>\n",
       "    </tr>\n",
       "  </thead>\n",
       "  <tbody>\n",
       "    <tr>\n",
       "      <th>0</th>\n",
       "      <td>NaN</td>\n",
       "      <td>34</td>\n",
       "      <td>153</td>\n",
       "      <td>2402</td>\n",
       "      <td>22</td>\n",
       "      <td>7</td>\n",
       "      <td>5144989002</td>\n",
       "      <td>4316945918</td>\n",
       "      <td>NaN</td>\n",
       "      <td>4</td>\n",
       "      <td>True</td>\n",
       "      <td>1575721460</td>\n",
       "    </tr>\n",
       "    <tr>\n",
       "      <th>1</th>\n",
       "      <td>3411.0</td>\n",
       "      <td>60</td>\n",
       "      <td>251</td>\n",
       "      <td>1513</td>\n",
       "      <td>22</td>\n",
       "      <td>7</td>\n",
       "      <td>5145011308</td>\n",
       "      <td>4316945902</td>\n",
       "      <td>4.0</td>\n",
       "      <td>6</td>\n",
       "      <td>False</td>\n",
       "      <td>1575722281</td>\n",
       "    </tr>\n",
       "    <tr>\n",
       "      <th>2</th>\n",
       "      <td>3585.0</td>\n",
       "      <td>48</td>\n",
       "      <td>151</td>\n",
       "      <td>2617</td>\n",
       "      <td>22</td>\n",
       "      <td>0</td>\n",
       "      <td>5144982208</td>\n",
       "      <td>4316946011</td>\n",
       "      <td>1.0</td>\n",
       "      <td>2</td>\n",
       "      <td>True</td>\n",
       "      <td>1575721190</td>\n",
       "    </tr>\n",
       "    <tr>\n",
       "      <th>3</th>\n",
       "      <td>3422.0</td>\n",
       "      <td>57</td>\n",
       "      <td>227</td>\n",
       "      <td>2831</td>\n",
       "      <td>3</td>\n",
       "      <td>7</td>\n",
       "      <td>5144977118</td>\n",
       "      <td>4316946054</td>\n",
       "      <td>5.0</td>\n",
       "      <td>9</td>\n",
       "      <td>True</td>\n",
       "      <td>1575720989</td>\n",
       "    </tr>\n",
       "    <tr>\n",
       "      <th>4</th>\n",
       "      <td>2382.0</td>\n",
       "      <td>43</td>\n",
       "      <td>182</td>\n",
       "      <td>2844</td>\n",
       "      <td>22</td>\n",
       "      <td>7</td>\n",
       "      <td>5144977515</td>\n",
       "      <td>4316946181</td>\n",
       "      <td>1.0</td>\n",
       "      <td>5</td>\n",
       "      <td>True</td>\n",
       "      <td>1575721021</td>\n",
       "    </tr>\n",
       "  </tbody>\n",
       "</table>\n",
       "</div>"
      ],
      "text/plain": [
       "   avg_mmr  avg_rank_tier  cluster  duration  game_mode  lobby_type  \\\n",
       "0      NaN             34      153      2402         22           7   \n",
       "1   3411.0             60      251      1513         22           7   \n",
       "2   3585.0             48      151      2617         22           0   \n",
       "3   3422.0             57      227      2831          3           7   \n",
       "4   2382.0             43      182      2844         22           7   \n",
       "\n",
       "     match_id  match_seq_num  num_mmr  num_rank_tier  radiant_win  start_time  \n",
       "0  5144989002     4316945918      NaN              4         True  1575721460  \n",
       "1  5145011308     4316945902      4.0              6        False  1575722281  \n",
       "2  5144982208     4316946011      1.0              2         True  1575721190  \n",
       "3  5144977118     4316946054      5.0              9         True  1575720989  \n",
       "4  5144977515     4316946181      1.0              5         True  1575721021  "
      ]
     },
     "execution_count": 14,
     "metadata": {},
     "output_type": "execute_result"
    }
   ],
   "source": [
    "gamemodedata.head()"
   ]
  },
  {
   "cell_type": "code",
   "execution_count": 20,
   "metadata": {},
   "outputs": [
    {
     "data": {
      "text/plain": [
       "7    48563\n",
       "0    11268\n",
       "9      828\n",
       "1       29\n",
       "Name: lobby_type, dtype: int64"
      ]
     },
     "execution_count": 20,
     "metadata": {},
     "output_type": "execute_result"
    }
   ],
   "source": [
    "gamemodedata['lobby_type'].value_counts()"
   ]
  },
  {
   "cell_type": "code",
   "execution_count": 21,
   "metadata": {},
   "outputs": [],
   "source": [
    "modedata = gamemodedata['lobby_type'].value_counts()[:2]\n",
    "modedata = modedata / np.sum(modedata)"
   ]
  },
  {
   "cell_type": "code",
   "execution_count": 24,
   "metadata": {},
   "outputs": [
    {
     "data": {
      "text/plain": [
       "7    0.81167\n",
       "0    0.18833\n",
       "Name: lobby_type, dtype: float64"
      ]
     },
     "execution_count": 24,
     "metadata": {},
     "output_type": "execute_result"
    }
   ],
   "source": [
    "modedata"
   ]
  },
  {
   "cell_type": "code",
   "execution_count": 73,
   "metadata": {},
   "outputs": [],
   "source": [
    "modelist = []\n",
    "modelist.append({'name': 'Ranked', 'y': modedata[7], 'sliced': True, 'selected': True})\n",
    "modelist.append(['Normal', modedata[0]])\n",
    "with open('./data/gametype_data.js', 'w') as outfile:\n",
    "    outstring = \"const gametypeSeries = \" + json.dumps(modelist)\n",
    "    outfile.write(outstring)"
   ]
  },
  {
   "cell_type": "code",
   "execution_count": 37,
   "metadata": {},
   "outputs": [
    {
     "data": {
      "text/html": [
       "<div>\n",
       "<style scoped>\n",
       "    .dataframe tbody tr th:only-of-type {\n",
       "        vertical-align: middle;\n",
       "    }\n",
       "\n",
       "    .dataframe tbody tr th {\n",
       "        vertical-align: top;\n",
       "    }\n",
       "\n",
       "    .dataframe thead th {\n",
       "        text-align: right;\n",
       "    }\n",
       "</style>\n",
       "<table border=\"1\" class=\"dataframe\">\n",
       "  <thead>\n",
       "    <tr style=\"text-align: right;\">\n",
       "      <th></th>\n",
       "      <th>attack_type</th>\n",
       "      <th>legs</th>\n",
       "      <th>localized_name</th>\n",
       "      <th>name</th>\n",
       "      <th>primary_attr</th>\n",
       "      <th>roles</th>\n",
       "    </tr>\n",
       "    <tr>\n",
       "      <th>id</th>\n",
       "      <th></th>\n",
       "      <th></th>\n",
       "      <th></th>\n",
       "      <th></th>\n",
       "      <th></th>\n",
       "      <th></th>\n",
       "    </tr>\n",
       "  </thead>\n",
       "  <tbody>\n",
       "    <tr>\n",
       "      <th>1</th>\n",
       "      <td>Melee</td>\n",
       "      <td>2</td>\n",
       "      <td>Anti-Mage</td>\n",
       "      <td>npc_dota_hero_antimage</td>\n",
       "      <td>agi</td>\n",
       "      <td>[Carry, Escape, Nuker]</td>\n",
       "    </tr>\n",
       "    <tr>\n",
       "      <th>2</th>\n",
       "      <td>Melee</td>\n",
       "      <td>2</td>\n",
       "      <td>Axe</td>\n",
       "      <td>npc_dota_hero_axe</td>\n",
       "      <td>str</td>\n",
       "      <td>[Initiator, Durable, Disabler, Jungler]</td>\n",
       "    </tr>\n",
       "    <tr>\n",
       "      <th>3</th>\n",
       "      <td>Ranged</td>\n",
       "      <td>4</td>\n",
       "      <td>Bane</td>\n",
       "      <td>npc_dota_hero_bane</td>\n",
       "      <td>int</td>\n",
       "      <td>[Support, Disabler, Nuker, Durable]</td>\n",
       "    </tr>\n",
       "    <tr>\n",
       "      <th>4</th>\n",
       "      <td>Melee</td>\n",
       "      <td>2</td>\n",
       "      <td>Bloodseeker</td>\n",
       "      <td>npc_dota_hero_bloodseeker</td>\n",
       "      <td>agi</td>\n",
       "      <td>[Carry, Disabler, Jungler, Nuker, Initiator]</td>\n",
       "    </tr>\n",
       "    <tr>\n",
       "      <th>5</th>\n",
       "      <td>Ranged</td>\n",
       "      <td>2</td>\n",
       "      <td>Crystal Maiden</td>\n",
       "      <td>npc_dota_hero_crystal_maiden</td>\n",
       "      <td>int</td>\n",
       "      <td>[Support, Disabler, Nuker, Jungler]</td>\n",
       "    </tr>\n",
       "  </tbody>\n",
       "</table>\n",
       "</div>"
      ],
      "text/plain": [
       "   attack_type  legs  localized_name                          name  \\\n",
       "id                                                                   \n",
       "1        Melee     2       Anti-Mage        npc_dota_hero_antimage   \n",
       "2        Melee     2             Axe             npc_dota_hero_axe   \n",
       "3       Ranged     4            Bane            npc_dota_hero_bane   \n",
       "4        Melee     2     Bloodseeker     npc_dota_hero_bloodseeker   \n",
       "5       Ranged     2  Crystal Maiden  npc_dota_hero_crystal_maiden   \n",
       "\n",
       "   primary_attr                                         roles  \n",
       "id                                                             \n",
       "1           agi                        [Carry, Escape, Nuker]  \n",
       "2           str       [Initiator, Durable, Disabler, Jungler]  \n",
       "3           int           [Support, Disabler, Nuker, Durable]  \n",
       "4           agi  [Carry, Disabler, Jungler, Nuker, Initiator]  \n",
       "5           int           [Support, Disabler, Nuker, Jungler]  "
      ]
     },
     "execution_count": 37,
     "metadata": {},
     "output_type": "execute_result"
    }
   ],
   "source": [
    "heroes = pd.DataFrame(json.loads(requests.get('https://api.opendota.com/api/heroes').content)).set_index('id', drop=True)\n",
    "heroes.head()"
   ]
  },
  {
   "cell_type": "code",
   "execution_count": 53,
   "metadata": {},
   "outputs": [],
   "source": [
    "herodict = {i : heroes['localized_name'][i] for i in heroes.index}"
   ]
  },
  {
   "cell_type": "code",
   "execution_count": 161,
   "metadata": {},
   "outputs": [],
   "source": [
    "herodata = {i: [] for i in herodict.values()}\n",
    "mmrs = []\n",
    "windata = []\n",
    "losedata = []\n",
    "for i, row in data.iterrows():\n",
    "    radwin = row['radiant_win']\n",
    "    winners = row['players'][0:5] if radwin else row['players'][5:10]\n",
    "    losers = row['players'][5:10] if radwin else row['players'][1:5]\n",
    "    for player in winners:\n",
    "        herodata[herodict[player['hero_id']]].append(1)\n",
    "    for player in losers:\n",
    "        herodata[herodict[player['hero_id']]].append(0)\n",
    "    "
   ]
  },
  {
   "cell_type": "code",
   "execution_count": 209,
   "metadata": {},
   "outputs": [],
   "source": [
    "X = [x for x in list(herodata.keys()) if np.mean(herodata[x]) > 0.50]\n",
    "y = [round(100 * np.mean(herodata[currx]), 1) for currx in X]\n",
    "X = [x for _,x in sorted(zip(y,X), reverse=True)]\n",
    "y = [{'name': 'Win Percentage', 'data': sorted(y, reverse=True)}]\n",
    "with open('./data/hero_data.js', 'w') as outfile:\n",
    "    outstring = \"const heroCats = \" + json.dumps(X) + \"\\n\"\n",
    "    outfile.write(outstring)\n",
    "    outstring = \"const heroData = \" + json.dumps(y)\n",
    "    outfile.write(outstring)"
   ]
  },
  {
   "cell_type": "code",
   "execution_count": 81,
   "metadata": {},
   "outputs": [
    {
     "data": {
      "text/plain": [
       "Index(['match_id', 'barracks_status_dire', 'barracks_status_radiant', 'chat',\n",
       "       'cluster', 'cosmetics', 'dire_score', 'dire_team_id', 'draft_timings',\n",
       "       'duration', 'engine', 'first_blood_time', 'game_mode', 'human_players',\n",
       "       'leagueid', 'lobby_type', 'match_seq_num', 'negative_votes',\n",
       "       'objectives', 'picks_bans', 'positive_votes', 'radiant_gold_adv',\n",
       "       'radiant_score', 'radiant_team_id', 'radiant_win', 'radiant_xp_adv',\n",
       "       'skill', 'start_time', 'teamfights', 'tower_status_dire',\n",
       "       'tower_status_radiant', 'version', 'players', 'patch'],\n",
       "      dtype='object')"
      ]
     },
     "execution_count": 81,
     "metadata": {},
     "output_type": "execute_result"
    }
   ],
   "source": [
    "data.columns"
   ]
  },
  {
   "cell_type": "code",
   "execution_count": 204,
   "metadata": {},
   "outputs": [
    {
     "data": {
      "text/plain": [
       "[<matplotlib.lines.Line2D at 0x182d06b00>]"
      ]
     },
     "execution_count": 204,
     "metadata": {},
     "output_type": "execute_result"
    },
    {
     "data": {
      "image/png": "[encoded data removed]",
      "text/plain": [
       "<Figure size 432x288 with 1 Axes>"
      ]
     },
     "metadata": {
      "needs_background": "light"
     },
     "output_type": "display_data"
    }
   ],
   "source": [
    "allmmrs = gendata['avg_mmr']\n",
    "def binner(y_vals):\n",
    "    y_binned = []\n",
    "    for val in y_vals:\n",
    "        y_binned.append(val // 250)\n",
    "    return y_binned\n",
    "\n",
    "binned = binner(allmmrs)\n",
    "distr = pd.Series(binned).value_counts().sort_index()\n",
    "distr.index = [i * 250 for i in distr.index]\n",
    "plt.plot(distr)"
   ]
  },
  {
   "cell_type": "code",
   "execution_count": 205,
   "metadata": {},
   "outputs": [],
   "source": [
    "distrlist = []\n",
    "for i in distr.index:\n",
    "    distrlist.append([int(i), round((int(distr[i]) / np.sum(distr)) * 100, 1)])"
   ]
  },
  {
   "cell_type": "code",
   "execution_count": 210,
   "metadata": {},
   "outputs": [],
   "source": [
    "distrdata = [{\n",
    "    'name': 'Percentage',\n",
    "    'data': distrlist\n",
    "}]\n",
    "with open('./data/mmr_data.js', 'w') as outfile:\n",
    "    outstring = \"const mmrData = \" + json.dumps(distrdata) + \"\\n\"\n",
    "    outfile.write(outstring)"
   ]
  },
  {
   "cell_type": "code",
   "execution_count": 211,
   "metadata": {},
   "outputs": [],
   "source": [
    "cats = []\n",
    "for i in range(0, 7500, 500):\n",
    "    cats.append(str(i) + ' - ' + str(i + 500))"
   ]
  },
  {
   "cell_type": "code",
   "execution_count": 213,
   "metadata": {},
   "outputs": [],
   "source": [
    "with open('./data/mmr_stats_data.js', 'w') as outfile:\n",
    "    outstring = \"const mmrStatsCats = \" + str(cats) + \"\\n\"\n",
    "    outfile.write(outstring)"
   ]
  },
  {
   "cell_type": "code",
   "execution_count": 219,
   "metadata": {},
   "outputs": [],
   "source": [
    "lhpm = {i: [] for i in range(15)}\n",
    "gpm = {i: [] for i in range(15)}\n",
    "xpm = {i: [] for i in range(15)}\n",
    "kpm = {i: [] for i in range(15)}"
   ]
  },
  {
   "cell_type": "code",
   "execution_count": 220,
   "metadata": {},
   "outputs": [],
   "source": [
    "for i, row in data.iterrows():\n",
    "    mmrid = row['avg_mmr'] // 500\n",
    "    radwin = row['radiant_win']\n",
    "    winners = row['players'][0:5] if radwin else row['players'][5:10]\n",
    "    pdata = {}\n",
    "    lhs = []\n",
    "    for player in winners:\n",
    "        lhs.append(player['last_hits'])\n",
    "    p1ind = pd.Series(lhs).idxmax()\n",
    "    pdata = winners[p1ind]\n",
    "    lhpm[mmrid].append(pdata['benchmarks']['gold_per_min']['raw'])\n",
    "    gpm[mmrid].append(pdata['benchmarks']['xp_per_min']['raw'])\n",
    "    xpm[mmrid].append(pdata['benchmarks']['last_hits_per_min']['raw'])\n",
    "    kpm[mmrid].append(pdata['benchmarks']['kills_per_min']['raw'])"
   ]
  },
  {
   "cell_type": "code",
   "execution_count": null,
   "metadata": {},
   "outputs": [],
   "source": [
    "mmrdata = []\n",
    "for i in lhpm.keys():\n",
    "    mmrdata.append({\n",
    "        'name': str(i) + ' - ' + str(i + 499),\n",
    "        'data': [np.mean(lhpm[i]), np.mean(gpm[i]), np.mean(xpm[i]), np.mean(kpm[i])],\n",
    "        'color': \n",
    "    })"
   ]
  },
  {
   "cell_type": "code",
   "execution_count": null,
   "metadata": {},
   "outputs": [],
   "source": []
  }
 ],
 "metadata": {
  "kernelspec": {
   "display_name": "Python 3",
   "language": "python",
   "name": "python3"
  },
  "language_info": {
   "codemirror_mode": {
    "name": "ipython",
    "version": 3
   },
   "file_extension": ".py",
   "mimetype": "text/x-python",
   "name": "python",
   "nbconvert_exporter": "python",
   "pygments_lexer": "ipython3",
   "version": "3.7.1"
  }
 },
 "nbformat": 4,
 "nbformat_minor": 2
}
