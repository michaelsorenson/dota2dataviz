{
 "cells": [
  {
   "cell_type": "code",
   "execution_count": 354,
   "metadata": {},
   "outputs": [],
   "source": [
    "from scipy.stats import percentileofscore as perc\n",
    "from collections import defaultdict\n",
    "import matplotlib.pyplot as plt\n",
    "import pandas as pd\n",
    "import numpy as np\n",
    "import requests\n",
    "import json\n",
    "import time"
   ]
  },
  {
   "cell_type": "code",
   "execution_count": 333,
   "metadata": {},
   "outputs": [],
   "source": [
    "# Built from https://www.opendota.com/explorer\n",
    "resp = requests.get('https://api.opendota.com/api/explorer?sql=SELECT%20*%0AFROM%20public_matches%0AWHERE%20public_matches.lobby_type%20%3D%207%0AAND%20public_matches.start_time%20>%3D%20extract(epoch%20from%20timestamp%20%272019-12-07T08%3A00%3A00.000Z%27)%0ALIMIT%201000000')\n"
   ]
  },
  {
   "cell_type": "code",
   "execution_count": 334,
   "metadata": {},
   "outputs": [
    {
     "data": {
      "text/html": [
       "<div>\n",
       "<style scoped>\n",
       "    .dataframe tbody tr th:only-of-type {\n",
       "        vertical-align: middle;\n",
       "    }\n",
       "\n",
       "    .dataframe tbody tr th {\n",
       "        vertical-align: top;\n",
       "    }\n",
       "\n",
       "    .dataframe thead th {\n",
       "        text-align: right;\n",
       "    }\n",
       "</style>\n",
       "<table border=\"1\" class=\"dataframe\">\n",
       "  <thead>\n",
       "    <tr style=\"text-align: right;\">\n",
       "      <th></th>\n",
       "      <th>avg_mmr</th>\n",
       "      <th>avg_rank_tier</th>\n",
       "      <th>cluster</th>\n",
       "      <th>duration</th>\n",
       "      <th>game_mode</th>\n",
       "      <th>lobby_type</th>\n",
       "      <th>match_id</th>\n",
       "      <th>match_seq_num</th>\n",
       "      <th>num_mmr</th>\n",
       "      <th>num_rank_tier</th>\n",
       "      <th>radiant_win</th>\n",
       "      <th>start_time</th>\n",
       "    </tr>\n",
       "  </thead>\n",
       "  <tbody>\n",
       "    <tr>\n",
       "      <th>0</th>\n",
       "      <td>2908.0</td>\n",
       "      <td>44</td>\n",
       "      <td>136</td>\n",
       "      <td>2430</td>\n",
       "      <td>22</td>\n",
       "      <td>7</td>\n",
       "      <td>5145495206</td>\n",
       "      <td>4317375306</td>\n",
       "      <td>1.0</td>\n",
       "      <td>4</td>\n",
       "      <td>True</td>\n",
       "      <td>1575740434</td>\n",
       "    </tr>\n",
       "    <tr>\n",
       "      <th>1</th>\n",
       "      <td>NaN</td>\n",
       "      <td>21</td>\n",
       "      <td>191</td>\n",
       "      <td>1582</td>\n",
       "      <td>22</td>\n",
       "      <td>7</td>\n",
       "      <td>5145511618</td>\n",
       "      <td>4317375374</td>\n",
       "      <td>NaN</td>\n",
       "      <td>3</td>\n",
       "      <td>False</td>\n",
       "      <td>1575741250</td>\n",
       "    </tr>\n",
       "    <tr>\n",
       "      <th>2</th>\n",
       "      <td>2727.0</td>\n",
       "      <td>45</td>\n",
       "      <td>236</td>\n",
       "      <td>2783</td>\n",
       "      <td>22</td>\n",
       "      <td>7</td>\n",
       "      <td>5145489412</td>\n",
       "      <td>4317375475</td>\n",
       "      <td>3.0</td>\n",
       "      <td>6</td>\n",
       "      <td>False</td>\n",
       "      <td>1575740171</td>\n",
       "    </tr>\n",
       "    <tr>\n",
       "      <th>3</th>\n",
       "      <td>3745.0</td>\n",
       "      <td>62</td>\n",
       "      <td>201</td>\n",
       "      <td>2127</td>\n",
       "      <td>22</td>\n",
       "      <td>7</td>\n",
       "      <td>5145502416</td>\n",
       "      <td>4317375668</td>\n",
       "      <td>6.0</td>\n",
       "      <td>6</td>\n",
       "      <td>True</td>\n",
       "      <td>1575740753</td>\n",
       "    </tr>\n",
       "    <tr>\n",
       "      <th>4</th>\n",
       "      <td>2541.0</td>\n",
       "      <td>34</td>\n",
       "      <td>121</td>\n",
       "      <td>1426</td>\n",
       "      <td>22</td>\n",
       "      <td>7</td>\n",
       "      <td>5145515006</td>\n",
       "      <td>4317376119</td>\n",
       "      <td>1.0</td>\n",
       "      <td>2</td>\n",
       "      <td>True</td>\n",
       "      <td>1575741433</td>\n",
       "    </tr>\n",
       "  </tbody>\n",
       "</table>\n",
       "</div>"
      ],
      "text/plain": [
       "   avg_mmr  avg_rank_tier  cluster  duration  game_mode  lobby_type  \\\n",
       "0   2908.0             44      136      2430         22           7   \n",
       "1      NaN             21      191      1582         22           7   \n",
       "2   2727.0             45      236      2783         22           7   \n",
       "3   3745.0             62      201      2127         22           7   \n",
       "4   2541.0             34      121      1426         22           7   \n",
       "\n",
       "     match_id  match_seq_num  num_mmr  num_rank_tier  radiant_win  start_time  \n",
       "0  5145495206     4317375306      1.0              4         True  1575740434  \n",
       "1  5145511618     4317375374      NaN              3        False  1575741250  \n",
       "2  5145489412     4317375475      3.0              6        False  1575740171  \n",
       "3  5145502416     4317375668      6.0              6         True  1575740753  \n",
       "4  5145515006     4317376119      1.0              2         True  1575741433  "
      ]
     },
     "execution_count": 334,
     "metadata": {},
     "output_type": "execute_result"
    }
   ],
   "source": [
    "gendata = pd.DataFrame(json.loads(resp.content)['rows'])\n",
    "gendata.head()"
   ]
  },
  {
   "cell_type": "code",
   "execution_count": 335,
   "metadata": {},
   "outputs": [
    {
     "data": {
      "text/html": [
       "<div>\n",
       "<style scoped>\n",
       "    .dataframe tbody tr th:only-of-type {\n",
       "        vertical-align: middle;\n",
       "    }\n",
       "\n",
       "    .dataframe tbody tr th {\n",
       "        vertical-align: top;\n",
       "    }\n",
       "\n",
       "    .dataframe thead th {\n",
       "        text-align: right;\n",
       "    }\n",
       "</style>\n",
       "<table border=\"1\" class=\"dataframe\">\n",
       "  <thead>\n",
       "    <tr style=\"text-align: right;\">\n",
       "      <th></th>\n",
       "      <th>avg_mmr</th>\n",
       "      <th>avg_rank_tier</th>\n",
       "      <th>cluster</th>\n",
       "      <th>duration</th>\n",
       "      <th>game_mode</th>\n",
       "      <th>lobby_type</th>\n",
       "      <th>match_id</th>\n",
       "      <th>match_seq_num</th>\n",
       "      <th>num_mmr</th>\n",
       "      <th>num_rank_tier</th>\n",
       "      <th>radiant_win</th>\n",
       "      <th>start_time</th>\n",
       "    </tr>\n",
       "  </thead>\n",
       "  <tbody>\n",
       "    <tr>\n",
       "      <th>37692</th>\n",
       "      <td>3490.0</td>\n",
       "      <td>57</td>\n",
       "      <td>227</td>\n",
       "      <td>2233</td>\n",
       "      <td>3</td>\n",
       "      <td>7</td>\n",
       "      <td>5144911406</td>\n",
       "      <td>4316877672</td>\n",
       "      <td>4.0</td>\n",
       "      <td>7</td>\n",
       "      <td>True</td>\n",
       "      <td>1575718326</td>\n",
       "    </tr>\n",
       "    <tr>\n",
       "      <th>19892</th>\n",
       "      <td>2370.0</td>\n",
       "      <td>39</td>\n",
       "      <td>155</td>\n",
       "      <td>1864</td>\n",
       "      <td>22</td>\n",
       "      <td>7</td>\n",
       "      <td>5145837604</td>\n",
       "      <td>4317666952</td>\n",
       "      <td>1.0</td>\n",
       "      <td>2</td>\n",
       "      <td>False</td>\n",
       "      <td>1575763300</td>\n",
       "    </tr>\n",
       "    <tr>\n",
       "      <th>8559</th>\n",
       "      <td>2624.0</td>\n",
       "      <td>44</td>\n",
       "      <td>155</td>\n",
       "      <td>2649</td>\n",
       "      <td>22</td>\n",
       "      <td>7</td>\n",
       "      <td>5145646300</td>\n",
       "      <td>4317508313</td>\n",
       "      <td>1.0</td>\n",
       "      <td>4</td>\n",
       "      <td>False</td>\n",
       "      <td>1575748557</td>\n",
       "    </tr>\n",
       "    <tr>\n",
       "      <th>15479</th>\n",
       "      <td>2517.0</td>\n",
       "      <td>38</td>\n",
       "      <td>192</td>\n",
       "      <td>2125</td>\n",
       "      <td>22</td>\n",
       "      <td>7</td>\n",
       "      <td>5145760410</td>\n",
       "      <td>4317600316</td>\n",
       "      <td>3.0</td>\n",
       "      <td>5</td>\n",
       "      <td>False</td>\n",
       "      <td>1575756296</td>\n",
       "    </tr>\n",
       "    <tr>\n",
       "      <th>45908</th>\n",
       "      <td>4292.0</td>\n",
       "      <td>76</td>\n",
       "      <td>193</td>\n",
       "      <td>2993</td>\n",
       "      <td>22</td>\n",
       "      <td>7</td>\n",
       "      <td>5145065708</td>\n",
       "      <td>4317026073</td>\n",
       "      <td>6.0</td>\n",
       "      <td>7</td>\n",
       "      <td>True</td>\n",
       "      <td>1575724280</td>\n",
       "    </tr>\n",
       "  </tbody>\n",
       "</table>\n",
       "</div>"
      ],
      "text/plain": [
       "       avg_mmr  avg_rank_tier  cluster  duration  game_mode  lobby_type  \\\n",
       "37692   3490.0             57      227      2233          3           7   \n",
       "19892   2370.0             39      155      1864         22           7   \n",
       "8559    2624.0             44      155      2649         22           7   \n",
       "15479   2517.0             38      192      2125         22           7   \n",
       "45908   4292.0             76      193      2993         22           7   \n",
       "\n",
       "         match_id  match_seq_num  num_mmr  num_rank_tier  radiant_win  \\\n",
       "37692  5144911406     4316877672      4.0              7         True   \n",
       "19892  5145837604     4317666952      1.0              2        False   \n",
       "8559   5145646300     4317508313      1.0              4        False   \n",
       "15479  5145760410     4317600316      3.0              5        False   \n",
       "45908  5145065708     4317026073      6.0              7         True   \n",
       "\n",
       "       start_time  \n",
       "37692  1575718326  \n",
       "19892  1575763300  \n",
       "8559   1575748557  \n",
       "15479  1575756296  \n",
       "45908  1575724280  "
      ]
     },
     "execution_count": 335,
     "metadata": {},
     "output_type": "execute_result"
    }
   ],
   "source": [
    "gendata = gendata.dropna(subset=['avg_mmr']).sample(10000)\n",
    "gendata.head()"
   ]
  },
  {
   "cell_type": "code",
   "execution_count": 336,
   "metadata": {},
   "outputs": [
    {
     "data": {
      "text/plain": [
       "10000"
      ]
     },
     "execution_count": 336,
     "metadata": {},
     "output_type": "execute_result"
    }
   ],
   "source": [
    "len(gendata)"
   ]
  },
  {
   "cell_type": "code",
   "execution_count": null,
   "metadata": {},
   "outputs": [],
   "source": []
  },
  {
   "cell_type": "code",
   "execution_count": 338,
   "metadata": {},
   "outputs": [
    {
     "name": "stdout",
     "output_type": "stream",
     "text": [
      "100.0%\r"
     ]
    }
   ],
   "source": [
    "matchdata = defaultdict(list)\n",
    "failed = []\n",
    "resps = []\n",
    "for i, mid in enumerate(gendata['match_id']):\n",
    "    try:\n",
    "        print('{:2.1%}'.format(i / 10000), end='\\r')\n",
    "        match = requests.get('https://api.opendota.com/api/matches/' + str(mid) + '[API KEY]')\n",
    "        try:\n",
    "            for key, val in json.loads(match.content).items():\n",
    "                matchdata[key].append(val)\n",
    "        except:\n",
    "            failed.append(i)\n",
    "            print('Failed: ' + str(i))\n",
    "    except:\n",
    "        print('SHIT: ' + str(i))"
   ]
  },
  {
   "cell_type": "code",
   "execution_count": 339,
   "metadata": {},
   "outputs": [],
   "source": [
    "keys = []\n",
    "for key in matchdata.keys():\n",
    "    if len(matchdata[key]) == len(matchdata['match_id']):\n",
    "        keys.append(key)\n",
    "fixed = {key: matchdata[key] for key in keys}\n",
    "data = pd.DataFrame(fixed)\n",
    "data['avg_mmr'] = gendata['avg_mmr'].reset_index(drop=True)\n",
    "data.to_csv('matchdata.csv')"
   ]
  },
  {
   "cell_type": "code",
   "execution_count": 283,
   "metadata": {},
   "outputs": [],
   "source": [
    "gamemodedata = json.loads(requests.get('https://api.opendota.com/api/explorer?sql=SELECT%20*%0AFROM%20public_matches%0AWHERE%20public_matches.start_time%20>%3D%20extract(epoch%20from%20timestamp%20%272019-12-07T08%3A00%3A00.000Z%27)%0ALIMIT%20100000').content)\n",
    "gamemodedata = pd.DataFrame(gamemodedata['rows'])"
   ]
  },
  {
   "cell_type": "code",
   "execution_count": 244,
   "metadata": {},
   "outputs": [
    {
     "data": {
      "text/html": [
       "<div>\n",
       "<style scoped>\n",
       "    .dataframe tbody tr th:only-of-type {\n",
       "        vertical-align: middle;\n",
       "    }\n",
       "\n",
       "    .dataframe tbody tr th {\n",
       "        vertical-align: top;\n",
       "    }\n",
       "\n",
       "    .dataframe thead th {\n",
       "        text-align: right;\n",
       "    }\n",
       "</style>\n",
       "<table border=\"1\" class=\"dataframe\">\n",
       "  <thead>\n",
       "    <tr style=\"text-align: right;\">\n",
       "      <th></th>\n",
       "      <th>avg_mmr</th>\n",
       "      <th>avg_rank_tier</th>\n",
       "      <th>cluster</th>\n",
       "      <th>duration</th>\n",
       "      <th>game_mode</th>\n",
       "      <th>lobby_type</th>\n",
       "      <th>match_id</th>\n",
       "      <th>match_seq_num</th>\n",
       "      <th>num_mmr</th>\n",
       "      <th>num_rank_tier</th>\n",
       "      <th>radiant_win</th>\n",
       "      <th>start_time</th>\n",
       "    </tr>\n",
       "  </thead>\n",
       "  <tbody>\n",
       "    <tr>\n",
       "      <th>0</th>\n",
       "      <td>2908.0</td>\n",
       "      <td>44</td>\n",
       "      <td>136</td>\n",
       "      <td>2430</td>\n",
       "      <td>22</td>\n",
       "      <td>7</td>\n",
       "      <td>5145495206</td>\n",
       "      <td>4317375306</td>\n",
       "      <td>1.0</td>\n",
       "      <td>4</td>\n",
       "      <td>True</td>\n",
       "      <td>1575740434</td>\n",
       "    </tr>\n",
       "    <tr>\n",
       "      <th>1</th>\n",
       "      <td>NaN</td>\n",
       "      <td>21</td>\n",
       "      <td>191</td>\n",
       "      <td>1582</td>\n",
       "      <td>22</td>\n",
       "      <td>7</td>\n",
       "      <td>5145511618</td>\n",
       "      <td>4317375374</td>\n",
       "      <td>NaN</td>\n",
       "      <td>3</td>\n",
       "      <td>False</td>\n",
       "      <td>1575741250</td>\n",
       "    </tr>\n",
       "    <tr>\n",
       "      <th>2</th>\n",
       "      <td>2727.0</td>\n",
       "      <td>45</td>\n",
       "      <td>236</td>\n",
       "      <td>2783</td>\n",
       "      <td>22</td>\n",
       "      <td>7</td>\n",
       "      <td>5145489412</td>\n",
       "      <td>4317375475</td>\n",
       "      <td>3.0</td>\n",
       "      <td>6</td>\n",
       "      <td>False</td>\n",
       "      <td>1575740171</td>\n",
       "    </tr>\n",
       "    <tr>\n",
       "      <th>3</th>\n",
       "      <td>3745.0</td>\n",
       "      <td>62</td>\n",
       "      <td>201</td>\n",
       "      <td>2127</td>\n",
       "      <td>22</td>\n",
       "      <td>7</td>\n",
       "      <td>5145502416</td>\n",
       "      <td>4317375668</td>\n",
       "      <td>6.0</td>\n",
       "      <td>6</td>\n",
       "      <td>True</td>\n",
       "      <td>1575740753</td>\n",
       "    </tr>\n",
       "    <tr>\n",
       "      <th>4</th>\n",
       "      <td>2276.0</td>\n",
       "      <td>46</td>\n",
       "      <td>185</td>\n",
       "      <td>1335</td>\n",
       "      <td>22</td>\n",
       "      <td>0</td>\n",
       "      <td>5145516817</td>\n",
       "      <td>4317375840</td>\n",
       "      <td>3.0</td>\n",
       "      <td>5</td>\n",
       "      <td>True</td>\n",
       "      <td>1575741498</td>\n",
       "    </tr>\n",
       "  </tbody>\n",
       "</table>\n",
       "</div>"
      ],
      "text/plain": [
       "   avg_mmr  avg_rank_tier  cluster  duration  game_mode  lobby_type  \\\n",
       "0   2908.0             44      136      2430         22           7   \n",
       "1      NaN             21      191      1582         22           7   \n",
       "2   2727.0             45      236      2783         22           7   \n",
       "3   3745.0             62      201      2127         22           7   \n",
       "4   2276.0             46      185      1335         22           0   \n",
       "\n",
       "     match_id  match_seq_num  num_mmr  num_rank_tier  radiant_win  start_time  \n",
       "0  5145495206     4317375306      1.0              4         True  1575740434  \n",
       "1  5145511618     4317375374      NaN              3        False  1575741250  \n",
       "2  5145489412     4317375475      3.0              6        False  1575740171  \n",
       "3  5145502416     4317375668      6.0              6         True  1575740753  \n",
       "4  5145516817     4317375840      3.0              5         True  1575741498  "
      ]
     },
     "execution_count": 244,
     "metadata": {},
     "output_type": "execute_result"
    }
   ],
   "source": [
    "gamemodedata.head()"
   ]
  },
  {
   "cell_type": "code",
   "execution_count": 245,
   "metadata": {},
   "outputs": [
    {
     "data": {
      "text/plain": [
       "7    65198\n",
       "0    14455\n",
       "9     1075\n",
       "1       40\n",
       "Name: lobby_type, dtype: int64"
      ]
     },
     "execution_count": 245,
     "metadata": {},
     "output_type": "execute_result"
    }
   ],
   "source": [
    "gamemodedata['lobby_type'].value_counts()"
   ]
  },
  {
   "cell_type": "code",
   "execution_count": 246,
   "metadata": {},
   "outputs": [],
   "source": [
    "modedata = gamemodedata['lobby_type'].value_counts()[:2]\n",
    "modedata = modedata / np.sum(modedata)"
   ]
  },
  {
   "cell_type": "code",
   "execution_count": 247,
   "metadata": {},
   "outputs": [
    {
     "data": {
      "text/plain": [
       "7    0.818525\n",
       "0    0.181475\n",
       "Name: lobby_type, dtype: float64"
      ]
     },
     "execution_count": 247,
     "metadata": {},
     "output_type": "execute_result"
    }
   ],
   "source": [
    "modedata"
   ]
  },
  {
   "cell_type": "code",
   "execution_count": 248,
   "metadata": {},
   "outputs": [],
   "source": [
    "modelist = []\n",
    "modelist.append({'name': 'Ranked', 'y': modedata[7], 'sliced': True, 'selected': True})\n",
    "modelist.append(['Normal', modedata[0]])\n",
    "with open('./data/gametype_data.js', 'w') as outfile:\n",
    "    outstring = \"const gametypeSeries = \" + json.dumps(modelist)\n",
    "    outfile.write(outstring)"
   ]
  },
  {
   "cell_type": "code",
   "execution_count": 249,
   "metadata": {},
   "outputs": [
    {
     "data": {
      "text/html": [
       "<div>\n",
       "<style scoped>\n",
       "    .dataframe tbody tr th:only-of-type {\n",
       "        vertical-align: middle;\n",
       "    }\n",
       "\n",
       "    .dataframe tbody tr th {\n",
       "        vertical-align: top;\n",
       "    }\n",
       "\n",
       "    .dataframe thead th {\n",
       "        text-align: right;\n",
       "    }\n",
       "</style>\n",
       "<table border=\"1\" class=\"dataframe\">\n",
       "  <thead>\n",
       "    <tr style=\"text-align: right;\">\n",
       "      <th></th>\n",
       "      <th>attack_type</th>\n",
       "      <th>legs</th>\n",
       "      <th>localized_name</th>\n",
       "      <th>name</th>\n",
       "      <th>primary_attr</th>\n",
       "      <th>roles</th>\n",
       "    </tr>\n",
       "    <tr>\n",
       "      <th>id</th>\n",
       "      <th></th>\n",
       "      <th></th>\n",
       "      <th></th>\n",
       "      <th></th>\n",
       "      <th></th>\n",
       "      <th></th>\n",
       "    </tr>\n",
       "  </thead>\n",
       "  <tbody>\n",
       "    <tr>\n",
       "      <th>1</th>\n",
       "      <td>Melee</td>\n",
       "      <td>2</td>\n",
       "      <td>Anti-Mage</td>\n",
       "      <td>npc_dota_hero_antimage</td>\n",
       "      <td>agi</td>\n",
       "      <td>[Carry, Escape, Nuker]</td>\n",
       "    </tr>\n",
       "    <tr>\n",
       "      <th>2</th>\n",
       "      <td>Melee</td>\n",
       "      <td>2</td>\n",
       "      <td>Axe</td>\n",
       "      <td>npc_dota_hero_axe</td>\n",
       "      <td>str</td>\n",
       "      <td>[Initiator, Durable, Disabler, Jungler]</td>\n",
       "    </tr>\n",
       "    <tr>\n",
       "      <th>3</th>\n",
       "      <td>Ranged</td>\n",
       "      <td>4</td>\n",
       "      <td>Bane</td>\n",
       "      <td>npc_dota_hero_bane</td>\n",
       "      <td>int</td>\n",
       "      <td>[Support, Disabler, Nuker, Durable]</td>\n",
       "    </tr>\n",
       "    <tr>\n",
       "      <th>4</th>\n",
       "      <td>Melee</td>\n",
       "      <td>2</td>\n",
       "      <td>Bloodseeker</td>\n",
       "      <td>npc_dota_hero_bloodseeker</td>\n",
       "      <td>agi</td>\n",
       "      <td>[Carry, Disabler, Jungler, Nuker, Initiator]</td>\n",
       "    </tr>\n",
       "    <tr>\n",
       "      <th>5</th>\n",
       "      <td>Ranged</td>\n",
       "      <td>2</td>\n",
       "      <td>Crystal Maiden</td>\n",
       "      <td>npc_dota_hero_crystal_maiden</td>\n",
       "      <td>int</td>\n",
       "      <td>[Support, Disabler, Nuker, Jungler]</td>\n",
       "    </tr>\n",
       "  </tbody>\n",
       "</table>\n",
       "</div>"
      ],
      "text/plain": [
       "   attack_type  legs  localized_name                          name  \\\n",
       "id                                                                   \n",
       "1        Melee     2       Anti-Mage        npc_dota_hero_antimage   \n",
       "2        Melee     2             Axe             npc_dota_hero_axe   \n",
       "3       Ranged     4            Bane            npc_dota_hero_bane   \n",
       "4        Melee     2     Bloodseeker     npc_dota_hero_bloodseeker   \n",
       "5       Ranged     2  Crystal Maiden  npc_dota_hero_crystal_maiden   \n",
       "\n",
       "   primary_attr                                         roles  \n",
       "id                                                             \n",
       "1           agi                        [Carry, Escape, Nuker]  \n",
       "2           str       [Initiator, Durable, Disabler, Jungler]  \n",
       "3           int           [Support, Disabler, Nuker, Durable]  \n",
       "4           agi  [Carry, Disabler, Jungler, Nuker, Initiator]  \n",
       "5           int           [Support, Disabler, Nuker, Jungler]  "
      ]
     },
     "execution_count": 249,
     "metadata": {},
     "output_type": "execute_result"
    }
   ],
   "source": [
    "heroes = pd.DataFrame(json.loads(requests.get('https://api.opendota.com/api/heroes').content)).set_index('id', drop=True)\n",
    "heroes.head()"
   ]
  },
  {
   "cell_type": "code",
   "execution_count": 250,
   "metadata": {},
   "outputs": [],
   "source": [
    "herodict = {i : heroes['localized_name'][i] for i in heroes.index}"
   ]
  },
  {
   "cell_type": "code",
   "execution_count": 340,
   "metadata": {},
   "outputs": [],
   "source": [
    "herodata = {i: [] for i in herodict.values()}\n",
    "mmrs = []\n",
    "windata = []\n",
    "losedata = []\n",
    "for i, row in data.iterrows():\n",
    "    radwin = row['radiant_win']\n",
    "    winners = row['players'][0:5] if radwin else row['players'][5:10]\n",
    "    losers = row['players'][5:10] if radwin else row['players'][1:5]\n",
    "    for player in winners:\n",
    "        herodata[herodict[player['hero_id']]].append(1)\n",
    "    for player in losers:\n",
    "        herodata[herodict[player['hero_id']]].append(0)\n",
    "    "
   ]
  },
  {
   "cell_type": "code",
   "execution_count": 341,
   "metadata": {},
   "outputs": [],
   "source": [
    "X = [x for x in list(herodata.keys()) if np.mean(herodata[x]) > 0.50]\n",
    "y = [round(100 * np.mean(herodata[currx]), 1) for currx in X]\n",
    "X = [x for _,x in sorted(zip(y,X), reverse=True)]\n",
    "y = [{'name': 'Win Percentage', 'data': sorted(y, reverse=True)}]\n",
    "with open('./data/hero_data.js', 'w') as outfile:\n",
    "    outstring = \"const heroCats = \" + json.dumps(X) + \"\\n\"\n",
    "    outfile.write(outstring)\n",
    "    outstring = \"const heroData = \" + json.dumps(y)\n",
    "    outfile.write(outstring)"
   ]
  },
  {
   "cell_type": "code",
   "execution_count": 342,
   "metadata": {},
   "outputs": [
    {
     "data": {
      "text/plain": [
       "Index(['match_id', 'barracks_status_dire', 'barracks_status_radiant', 'chat',\n",
       "       'cluster', 'cosmetics', 'dire_score', 'dire_team_id', 'draft_timings',\n",
       "       'duration', 'engine', 'first_blood_time', 'game_mode', 'human_players',\n",
       "       'leagueid', 'lobby_type', 'match_seq_num', 'negative_votes',\n",
       "       'objectives', 'picks_bans', 'positive_votes', 'radiant_gold_adv',\n",
       "       'radiant_score', 'radiant_team_id', 'radiant_win', 'radiant_xp_adv',\n",
       "       'skill', 'start_time', 'teamfights', 'tower_status_dire',\n",
       "       'tower_status_radiant', 'version', 'players', 'patch', 'avg_mmr'],\n",
       "      dtype='object')"
      ]
     },
     "execution_count": 342,
     "metadata": {},
     "output_type": "execute_result"
    }
   ],
   "source": [
    "data.columns"
   ]
  },
  {
   "cell_type": "code",
   "execution_count": 343,
   "metadata": {},
   "outputs": [
    {
     "data": {
      "text/plain": [
       "[<matplotlib.lines.Line2D at 0x182aadc88>]"
      ]
     },
     "execution_count": 343,
     "metadata": {},
     "output_type": "execute_result"
    },
    {
     "data": {
      "image/png": "[encoded data removed]",
      "text/plain": [
       "<Figure size 432x288 with 1 Axes>"
      ]
     },
     "metadata": {
      "needs_background": "light"
     },
     "output_type": "display_data"
    }
   ],
   "source": [
    "allmmrs = gendata['avg_mmr']\n",
    "def binner(y_vals):\n",
    "    y_binned = []\n",
    "    for val in y_vals:\n",
    "        y_binned.append(val // 250)\n",
    "    return y_binned\n",
    "\n",
    "binned = binner(allmmrs)\n",
    "distr = pd.Series(binned).value_counts().sort_index()\n",
    "distr.index = [i * 250 for i in distr.index]\n",
    "plt.plot(distr)"
   ]
  },
  {
   "cell_type": "code",
   "execution_count": 344,
   "metadata": {},
   "outputs": [],
   "source": [
    "distrlist = []\n",
    "for i in distr.index:\n",
    "    distrlist.append([int(i), round((int(distr[i]) / np.sum(distr)) * 100, 1)])"
   ]
  },
  {
   "cell_type": "code",
   "execution_count": 345,
   "metadata": {},
   "outputs": [],
   "source": [
    "distrdata = [{\n",
    "    'name': 'Percentage',\n",
    "    'data': distrlist\n",
    "}]\n",
    "with open('./data/mmr_data.js', 'w') as outfile:\n",
    "    outstring = \"const mmrData = \" + json.dumps(distrdata) + \"\\n\"\n",
    "    outfile.write(outstring)"
   ]
  },
  {
   "cell_type": "code",
   "execution_count": 346,
   "metadata": {},
   "outputs": [],
   "source": [
    "cats = []\n",
    "for i in range(0, 7500, 500):\n",
    "    cats.append(str(i) + ' - ' + str(i + 500))"
   ]
  },
  {
   "cell_type": "code",
   "execution_count": null,
   "metadata": {},
   "outputs": [],
   "source": []
  },
  {
   "cell_type": "code",
   "execution_count": 348,
   "metadata": {},
   "outputs": [],
   "source": [
    "lhpm = {i: [] for i in range(15)}\n",
    "gpm = {i: [] for i in range(15)}\n",
    "xpm = {i: [] for i in range(15)}\n",
    "kpm = {i: [] for i in range(15)}"
   ]
  },
  {
   "cell_type": "code",
   "execution_count": 349,
   "metadata": {},
   "outputs": [],
   "source": [
    "for i, row in data.iterrows():\n",
    "    if not row['avg_mmr']:\n",
    "        print(i)\n",
    "    else:\n",
    "        mmrid = row['avg_mmr'] // 500\n",
    "        radwin = row['radiant_win']\n",
    "        winners = row['players'][0:5] if radwin else row['players'][5:10]\n",
    "        lhs = []\n",
    "        for player in winners:\n",
    "            lhs.append(player['last_hits'])\n",
    "        p1ind = pd.Series(lhs).idxmax()\n",
    "        pdata = winners[p1ind]\n",
    "        lhpm[mmrid].append(pdata['benchmarks']['gold_per_min']['pct'] * 100)\n",
    "        gpm[mmrid].append(pdata['benchmarks']['xp_per_min']['pct'] * 100)\n",
    "        xpm[mmrid].append(pdata['benchmarks']['last_hits_per_min']['pct'] * 100)\n",
    "        kpm[mmrid].append(pdata['benchmarks']['kills_per_min']['pct'] * 100)"
   ]
  },
  {
   "cell_type": "code",
   "execution_count": 350,
   "metadata": {},
   "outputs": [],
   "source": [
    "lhpmall = []\n",
    "gpmall = []\n",
    "xpmall = []\n",
    "kpmall = []\n",
    "for arr in lhpm.values():\n",
    "    for ent in arr:\n",
    "        lhpmall.append(ent)\n",
    "for arr in gpm.values():\n",
    "    for ent in arr:\n",
    "        gpmall.append(ent)\n",
    "for arr in xpm.values():\n",
    "    for ent in arr:\n",
    "        xpmall.append(ent)\n",
    "for arr in kpm.values():\n",
    "    for ent in arr:\n",
    "        kpmall.append(ent)"
   ]
  },
  {
   "cell_type": "code",
   "execution_count": 355,
   "metadata": {},
   "outputs": [],
   "source": [
    "mmrdata = []\n",
    "for i in lhpm.keys():\n",
    "    if len(lhpm[i]) == 0:\n",
    "        continue\n",
    "    mmrdata.append({\n",
    "        'name': str(500 * i) + ' - ' + str((500 * i) + 499),\n",
    "        'data': [perc(lhpmall, np.mean(lhpm[i]), kind='weak'),\n",
    "                 perc(gpmall, np.mean(gpm[i]), kind='weak'),\n",
    "                 perc(xpmall, np.mean(xpm[i]), kind='weak'),\n",
    "                 perc(kpmall, np.mean(kpm[i]), kind='weak')]\n",
    "    })"
   ]
  },
  {
   "cell_type": "code",
   "execution_count": 356,
   "metadata": {},
   "outputs": [],
   "source": [
    "with open('./data/mmr_stats_data.js', 'w') as outfile:\n",
    "    outstring = \"const mmrStatsData = \" + json.dumps(mmrdata)\n",
    "    outfile.write(outstring)"
   ]
  },
  {
   "cell_type": "code",
   "execution_count": 362,
   "metadata": {},
   "outputs": [
    {
     "name": "stdout",
     "output_type": "stream",
     "text": [
      "117\n",
      "284\n",
      "475\n",
      "811\n",
      "1358\n",
      "1889\n",
      "2174\n",
      "1604\n",
      "850\n",
      "293\n",
      "93\n",
      "33\n",
      "13\n",
      "6\n",
      "0\n"
     ]
    }
   ],
   "source": [
    "for i in lhpm.keys():\n",
    "    print(len(lhpm[i]))"
   ]
  },
  {
   "cell_type": "code",
   "execution_count": null,
   "metadata": {},
   "outputs": [],
   "source": []
  }
 ],
 "metadata": {
  "kernelspec": {
   "display_name": "Python 3",
   "language": "python",
   "name": "python3"
  },
  "language_info": {
   "codemirror_mode": {
    "name": "ipython",
    "version": 3
   },
   "file_extension": ".py",
   "mimetype": "text/x-python",
   "name": "python",
   "nbconvert_exporter": "python",
   "pygments_lexer": "ipython3",
   "version": "3.7.1"
  }
 },
 "nbformat": 4,
 "nbformat_minor": 2
}
